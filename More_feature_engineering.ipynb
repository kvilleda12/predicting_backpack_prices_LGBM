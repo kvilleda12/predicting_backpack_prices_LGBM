{
  "cells": [
    {
      "cell_type": "code",
      "execution_count": 9,
      "metadata": {
        "id": "LF2xPNQjaC_z"
      },
      "outputs": [],
      "source": [
        "import duckdb"
      ]
    },
    {
      "cell_type": "code",
      "execution_count": null,
      "metadata": {
        "id": "Wje2o56hTkbe"
      },
      "outputs": [],
      "source": [
        "import pandas as pd\n",
        "import numpy as np\n",
        "\n",
        "df = pd.read_parquet(\"train_with_te.parquet\")"
      ]
    },
    {
      "cell_type": "code",
      "execution_count": null,
      "metadata": {
        "colab": {
          "base_uri": "https://localhost:8080/",
          "height": 1000
        },
        "id": "-5e0Ae6gUX2U",
        "outputId": "e68b1263-464e-4bf3-d569-074600c6333f"
      },
      "outputs": [
        {
          "data": {
            "text/html": [
              "<div>\n",
              "<style scoped>\n",
              "    .dataframe tbody tr th:only-of-type {\n",
              "        vertical-align: middle;\n",
              "    }\n",
              "\n",
              "    .dataframe tbody tr th {\n",
              "        vertical-align: top;\n",
              "    }\n",
              "\n",
              "    .dataframe thead th {\n",
              "        text-align: right;\n",
              "    }\n",
              "</style>\n",
              "<table border=\"1\" class=\"dataframe\">\n",
              "  <thead>\n",
              "    <tr style=\"text-align: right;\">\n",
              "      <th></th>\n",
              "      <th>0</th>\n",
              "    </tr>\n",
              "  </thead>\n",
              "  <tbody>\n",
              "    <tr>\n",
              "      <th>id</th>\n",
              "      <td>uint32</td>\n",
              "    </tr>\n",
              "    <tr>\n",
              "      <th>Brand</th>\n",
              "      <td>object</td>\n",
              "    </tr>\n",
              "    <tr>\n",
              "      <th>Material</th>\n",
              "      <td>object</td>\n",
              "    </tr>\n",
              "    <tr>\n",
              "      <th>Size</th>\n",
              "      <td>object</td>\n",
              "    </tr>\n",
              "    <tr>\n",
              "      <th>comp</th>\n",
              "      <td>float32</td>\n",
              "    </tr>\n",
              "    <tr>\n",
              "      <th>L_comp</th>\n",
              "      <td>bool</td>\n",
              "    </tr>\n",
              "    <tr>\n",
              "      <th>Waterproof</th>\n",
              "      <td>bool</td>\n",
              "    </tr>\n",
              "    <tr>\n",
              "      <th>Style</th>\n",
              "      <td>object</td>\n",
              "    </tr>\n",
              "    <tr>\n",
              "      <th>Color</th>\n",
              "      <td>object</td>\n",
              "    </tr>\n",
              "    <tr>\n",
              "      <th>wc</th>\n",
              "      <td>float32</td>\n",
              "    </tr>\n",
              "    <tr>\n",
              "      <th>Price</th>\n",
              "      <td>float64</td>\n",
              "    </tr>\n",
              "    <tr>\n",
              "      <th>brand_size</th>\n",
              "      <td>object</td>\n",
              "    </tr>\n",
              "    <tr>\n",
              "      <th>brand_material</th>\n",
              "      <td>object</td>\n",
              "    </tr>\n",
              "    <tr>\n",
              "      <th>material_size</th>\n",
              "      <td>object</td>\n",
              "    </tr>\n",
              "    <tr>\n",
              "      <th>brand_weight_mean</th>\n",
              "      <td>float32</td>\n",
              "    </tr>\n",
              "    <tr>\n",
              "      <th>brand_weight_range</th>\n",
              "      <td>float32</td>\n",
              "    </tr>\n",
              "    <tr>\n",
              "      <th>material_weight_mean</th>\n",
              "      <td>float32</td>\n",
              "    </tr>\n",
              "    <tr>\n",
              "      <th>material_weight_range</th>\n",
              "      <td>float32</td>\n",
              "    </tr>\n",
              "    <tr>\n",
              "      <th>size_weight_mean</th>\n",
              "      <td>float32</td>\n",
              "    </tr>\n",
              "    <tr>\n",
              "      <th>size_weight_range</th>\n",
              "      <td>float32</td>\n",
              "    </tr>\n",
              "    <tr>\n",
              "      <th>style_weight_mean</th>\n",
              "      <td>float32</td>\n",
              "    </tr>\n",
              "    <tr>\n",
              "      <th>style_weight_range</th>\n",
              "      <td>float32</td>\n",
              "    </tr>\n",
              "    <tr>\n",
              "      <th>weight_vs_brand_mean</th>\n",
              "      <td>float32</td>\n",
              "    </tr>\n",
              "    <tr>\n",
              "      <th>weight_vs_material_mean</th>\n",
              "      <td>float32</td>\n",
              "    </tr>\n",
              "    <tr>\n",
              "      <th>weight_vs_size_mean</th>\n",
              "      <td>float32</td>\n",
              "    </tr>\n",
              "    <tr>\n",
              "      <th>weight_vs_style_mean</th>\n",
              "      <td>float32</td>\n",
              "    </tr>\n",
              "    <tr>\n",
              "      <th>brand_total_percent</th>\n",
              "      <td>float32</td>\n",
              "    </tr>\n",
              "    <tr>\n",
              "      <th>material_total_percent</th>\n",
              "      <td>float32</td>\n",
              "    </tr>\n",
              "    <tr>\n",
              "      <th>size_total_percent</th>\n",
              "      <td>float32</td>\n",
              "    </tr>\n",
              "    <tr>\n",
              "      <th>style_total_percent</th>\n",
              "      <td>float32</td>\n",
              "    </tr>\n",
              "    <tr>\n",
              "      <th>material_share_within_brand</th>\n",
              "      <td>float32</td>\n",
              "    </tr>\n",
              "    <tr>\n",
              "      <th>style_share_within_brand</th>\n",
              "      <td>float32</td>\n",
              "    </tr>\n",
              "    <tr>\n",
              "      <th>size_share_within_brand</th>\n",
              "      <td>float32</td>\n",
              "    </tr>\n",
              "    <tr>\n",
              "      <th>is_light</th>\n",
              "      <td>bool</td>\n",
              "    </tr>\n",
              "    <tr>\n",
              "      <th>is_medium</th>\n",
              "      <td>bool</td>\n",
              "    </tr>\n",
              "    <tr>\n",
              "      <th>is_heavy</th>\n",
              "      <td>bool</td>\n",
              "    </tr>\n",
              "    <tr>\n",
              "      <th>falls_into_global_weight_majority</th>\n",
              "      <td>bool</td>\n",
              "    </tr>\n",
              "    <tr>\n",
              "      <th>falls_into_brand_weight_majority</th>\n",
              "      <td>bool</td>\n",
              "    </tr>\n",
              "    <tr>\n",
              "      <th>falls_into_style_weight_majority</th>\n",
              "      <td>bool</td>\n",
              "    </tr>\n",
              "    <tr>\n",
              "      <th>falls_into_size_weight_majority</th>\n",
              "      <td>bool</td>\n",
              "    </tr>\n",
              "    <tr>\n",
              "      <th>is_above_global_mean_weight</th>\n",
              "      <td>bool</td>\n",
              "    </tr>\n",
              "    <tr>\n",
              "      <th>is_above_brand_mean_weight</th>\n",
              "      <td>bool</td>\n",
              "    </tr>\n",
              "    <tr>\n",
              "      <th>is_above_style_mean_weight</th>\n",
              "      <td>bool</td>\n",
              "    </tr>\n",
              "    <tr>\n",
              "      <th>is_above_size_mean_weight</th>\n",
              "      <td>bool</td>\n",
              "    </tr>\n",
              "    <tr>\n",
              "      <th>brand_price_te</th>\n",
              "      <td>float64</td>\n",
              "    </tr>\n",
              "    <tr>\n",
              "      <th>material_price_te</th>\n",
              "      <td>float64</td>\n",
              "    </tr>\n",
              "    <tr>\n",
              "      <th>size_price_te</th>\n",
              "      <td>float64</td>\n",
              "    </tr>\n",
              "    <tr>\n",
              "      <th>style_price_te</th>\n",
              "      <td>float64</td>\n",
              "    </tr>\n",
              "    <tr>\n",
              "      <th>waterproof_price_te</th>\n",
              "      <td>float64</td>\n",
              "    </tr>\n",
              "    <tr>\n",
              "      <th>brand_material_price_te</th>\n",
              "      <td>float64</td>\n",
              "    </tr>\n",
              "    <tr>\n",
              "      <th>brand_size_price_te</th>\n",
              "      <td>float64</td>\n",
              "    </tr>\n",
              "    <tr>\n",
              "      <th>material_size_price_te</th>\n",
              "      <td>float64</td>\n",
              "    </tr>\n",
              "    <tr>\n",
              "      <th>brand_price_count_te</th>\n",
              "      <td>int64</td>\n",
              "    </tr>\n",
              "    <tr>\n",
              "      <th>brand_material_price_count_te</th>\n",
              "      <td>int64</td>\n",
              "    </tr>\n",
              "  </tbody>\n",
              "</table>\n",
              "</div><br><label><b>dtype:</b> object</label>"
            ],
            "text/plain": [
              "id                                    uint32\n",
              "Brand                                 object\n",
              "Material                              object\n",
              "Size                                  object\n",
              "comp                                 float32\n",
              "L_comp                                  bool\n",
              "Waterproof                              bool\n",
              "Style                                 object\n",
              "Color                                 object\n",
              "wc                                   float32\n",
              "Price                                float64\n",
              "brand_size                            object\n",
              "brand_material                        object\n",
              "material_size                         object\n",
              "brand_weight_mean                    float32\n",
              "brand_weight_range                   float32\n",
              "material_weight_mean                 float32\n",
              "material_weight_range                float32\n",
              "size_weight_mean                     float32\n",
              "size_weight_range                    float32\n",
              "style_weight_mean                    float32\n",
              "style_weight_range                   float32\n",
              "weight_vs_brand_mean                 float32\n",
              "weight_vs_material_mean              float32\n",
              "weight_vs_size_mean                  float32\n",
              "weight_vs_style_mean                 float32\n",
              "brand_total_percent                  float32\n",
              "material_total_percent               float32\n",
              "size_total_percent                   float32\n",
              "style_total_percent                  float32\n",
              "material_share_within_brand          float32\n",
              "style_share_within_brand             float32\n",
              "size_share_within_brand              float32\n",
              "is_light                                bool\n",
              "is_medium                               bool\n",
              "is_heavy                                bool\n",
              "falls_into_global_weight_majority       bool\n",
              "falls_into_brand_weight_majority        bool\n",
              "falls_into_style_weight_majority        bool\n",
              "falls_into_size_weight_majority         bool\n",
              "is_above_global_mean_weight             bool\n",
              "is_above_brand_mean_weight              bool\n",
              "is_above_style_mean_weight              bool\n",
              "is_above_size_mean_weight               bool\n",
              "brand_price_te                       float64\n",
              "material_price_te                    float64\n",
              "size_price_te                        float64\n",
              "style_price_te                       float64\n",
              "waterproof_price_te                  float64\n",
              "brand_material_price_te              float64\n",
              "brand_size_price_te                  float64\n",
              "material_size_price_te               float64\n",
              "brand_price_count_te                   int64\n",
              "brand_material_price_count_te          int64\n",
              "dtype: object"
            ]
          },
          "execution_count": 3,
          "metadata": {},
          "output_type": "execute_result"
        }
      ],
      "source": [
        "df.dtypes"
      ]
    },
    {
      "cell_type": "code",
      "execution_count": null,
      "metadata": {
        "colab": {
          "base_uri": "https://localhost:8080/"
        },
        "id": "PAsDtCscXWBz",
        "outputId": "ddc8130a-47e2-4b6e-8c8d-d2965c0655ae"
      },
      "outputs": [
        {
          "data": {
            "text/plain": [
              "<duckdb.duckdb.DuckDBPyConnection at 0x7f78ed64a570>"
            ]
          },
          "execution_count": 4,
          "metadata": {},
          "output_type": "execute_result"
        }
      ],
      "source": [
        "con = duckdb.connect(database=\":memory:\", read_only=False)\n",
        "con.register(\"train\", df)"
      ]
    },
    {
      "cell_type": "code",
      "execution_count": null,
      "metadata": {
        "colab": {
          "background_save": true,
          "referenced_widgets": [
            "6c76219589c14f2d97f9cda1990206fd"
          ]
        },
        "id": "8NHC6X2TaXub",
        "outputId": "e65ca264-989c-4750-acde-67764ee1eac4"
      },
      "outputs": [
        {
          "data": {
            "application/vnd.jupyter.widget-view+json": {
              "model_id": "6c76219589c14f2d97f9cda1990206fd",
              "version_major": 2,
              "version_minor": 0
            },
            "text/plain": [
              "FloatProgress(value=0.0, layout=Layout(width='auto'), style=ProgressStyle(bar_color='black'))"
            ]
          },
          "metadata": {},
          "output_type": "display_data"
        }
      ],
      "source": [
        "df2 = con.execute(\"\"\"\n",
        "WITH\n",
        "params AS (SELECT 0.03::DOUBLE AS rare_pct),              -- 4% rarity threshold\n",
        "base AS (\n",
        "  SELECT *\n",
        "  FROM df\n",
        "),\n",
        "aug AS (\n",
        "  SELECT\n",
        "    base.*,\n",
        "\n",
        "    -- global total\n",
        "    COUNT(*) OVER () AS n_total,\n",
        "\n",
        "    -- single-key counts\n",
        "    COUNT(*) OVER (PARTITION BY brand)     AS brand_count,\n",
        "    COUNT(*) OVER (PARTITION BY style)     AS style_count,\n",
        "    COUNT(*) OVER (PARTITION BY material)  AS material_count,\n",
        "    COUNT(*) OVER (PARTITION BY size)      AS size_count,\n",
        "    COUNT(*) OVER (PARTITION BY color)     AS color_count,\n",
        "    COUNT(*) OVER (PARTITION BY waterproof)AS wp_count,\n",
        "\n",
        "    -- pair counts\n",
        "    COUNT(*) OVER (PARTITION BY brand, style)         AS brand_style_count,\n",
        "    COUNT(*) OVER (PARTITION BY brand, material)      AS brand_material_count,\n",
        "    COUNT(*) OVER (PARTITION BY brand, size)          AS brand_size_count,\n",
        "    COUNT(*) OVER (PARTITION BY brand, color)         AS brand_color_count,\n",
        "    COUNT(*) OVER (PARTITION BY brand, waterproof)    AS brand_wp_count,\n",
        "\n",
        "    COUNT(*) OVER (PARTITION BY style, material)      AS style_material_count,\n",
        "    COUNT(*) OVER (PARTITION BY style, size)          AS style_size_count,\n",
        "    COUNT(*) OVER (PARTITION BY style, color)         AS style_color_count,\n",
        "    COUNT(*) OVER (PARTITION BY style, waterproof)    AS style_wp_count,\n",
        "\n",
        "    COUNT(*) OVER (PARTITION BY material, size)       AS material_size_count,\n",
        "    COUNT(*) OVER (PARTITION BY material, color)      AS material_color_count,\n",
        "    COUNT(*) OVER (PARTITION BY material, waterproof) AS material_wp_count\n",
        "  FROM base\n",
        ")\n",
        "SELECT\n",
        "  aug.*,\n",
        "\n",
        "  -- shares within parent groups\n",
        "  CAST(brand_style_count   AS DOUBLE) / NULLIF(brand_count,  0) AS brand_style_share_within_brand,\n",
        "  CAST(brand_color_count   AS DOUBLE) / NULLIF(brand_count,  0) AS brand_color_share_within_brand,\n",
        "  CAST(brand_material_count AS DOUBLE) / NULLIF(brand_count, 0) AS brand_material_share_within_brand,\n",
        "  CAST(brand_wp_count      AS DOUBLE) / NULLIF(brand_count,  0) AS brand_wp_share_within_brand,\n",
        "\n",
        "  CAST(style_color_count   AS DOUBLE) / NULLIF(style_count,  0) AS style_color_share_within_style,\n",
        "\n",
        "  -- global shares for singles\n",
        "  CAST(material_count AS DOUBLE) / NULLIF(n_total, 0) AS material_global_share,\n",
        "  CAST(style_count    AS DOUBLE) / NULLIF(n_total, 0) AS style_global_share,\n",
        "  CAST(color_count    AS DOUBLE) / NULLIF(n_total, 0) AS color_global_share,\n",
        "\n",
        "  -- rarity flags by percentage\n",
        "  (CAST(brand_color_count    AS DOUBLE) / NULLIF(brand_count,  0)) < (SELECT rare_pct FROM params) AS brand_color_is_rare,\n",
        "  (CAST(brand_style_count    AS DOUBLE) / NULLIF(brand_count,  0)) < (SELECT rare_pct FROM params) AS brand_style_is_rare,\n",
        "  (CAST(brand_material_count AS DOUBLE) / NULLIF(brand_count,  0)) < (SELECT rare_pct FROM params) AS brand_material_is_rare,\n",
        "  (CAST(brand_wp_count       AS DOUBLE) / NULLIF(brand_count,  0)) < (SELECT rare_pct FROM params) AS brand_wp_is_rare,\n",
        "\n",
        "  (CAST(material_count AS DOUBLE) / NULLIF(n_total, 0)) < (SELECT rare_pct FROM params) AS material_is_rare,\n",
        "  (CAST(style_count    AS DOUBLE) / NULLIF(n_total, 0)) < (SELECT rare_pct FROM params) AS style_is_rare,\n",
        "  (CAST(color_count    AS DOUBLE) / NULLIF(n_total, 0)) < (SELECT rare_pct FROM params) AS color_is_rare,\n",
        "\n",
        "  -- log1p on some high-cardinality combos\n",
        "  LOG(1 + brand_color_count)  AS log1p_brand_color_count,\n",
        "  LOG(1 + style_color_count)  AS log1p_style_color_count\n",
        "FROM aug\n",
        "\"\"\").df()\n"
      ]
    },
    {
      "cell_type": "code",
      "execution_count": null,
      "metadata": {
        "colab": {
          "base_uri": "https://localhost:8080/",
          "height": 458
        },
        "id": "oaspxfUhjd0J",
        "outputId": "d6d09311-7183-4412-d9c3-6774126cde77"
      },
      "outputs": [
        {
          "data": {
            "text/html": [
              "<div>\n",
              "<style scoped>\n",
              "    .dataframe tbody tr th:only-of-type {\n",
              "        vertical-align: middle;\n",
              "    }\n",
              "\n",
              "    .dataframe tbody tr th {\n",
              "        vertical-align: top;\n",
              "    }\n",
              "\n",
              "    .dataframe thead th {\n",
              "        text-align: right;\n",
              "    }\n",
              "</style>\n",
              "<table border=\"1\" class=\"dataframe\">\n",
              "  <thead>\n",
              "    <tr style=\"text-align: right;\">\n",
              "      <th></th>\n",
              "      <th>0</th>\n",
              "    </tr>\n",
              "  </thead>\n",
              "  <tbody>\n",
              "    <tr>\n",
              "      <th>id</th>\n",
              "      <td>uint32</td>\n",
              "    </tr>\n",
              "    <tr>\n",
              "      <th>Brand</th>\n",
              "      <td>object</td>\n",
              "    </tr>\n",
              "    <tr>\n",
              "      <th>Material</th>\n",
              "      <td>object</td>\n",
              "    </tr>\n",
              "    <tr>\n",
              "      <th>Size</th>\n",
              "      <td>object</td>\n",
              "    </tr>\n",
              "    <tr>\n",
              "      <th>comp</th>\n",
              "      <td>float32</td>\n",
              "    </tr>\n",
              "    <tr>\n",
              "      <th>...</th>\n",
              "      <td>...</td>\n",
              "    </tr>\n",
              "    <tr>\n",
              "      <th>material_is_rare</th>\n",
              "      <td>bool</td>\n",
              "    </tr>\n",
              "    <tr>\n",
              "      <th>style_is_rare</th>\n",
              "      <td>bool</td>\n",
              "    </tr>\n",
              "    <tr>\n",
              "      <th>color_is_rare</th>\n",
              "      <td>bool</td>\n",
              "    </tr>\n",
              "    <tr>\n",
              "      <th>log1p_brand_color_count</th>\n",
              "      <td>float64</td>\n",
              "    </tr>\n",
              "    <tr>\n",
              "      <th>log1p_style_color_count</th>\n",
              "      <td>float64</td>\n",
              "    </tr>\n",
              "  </tbody>\n",
              "</table>\n",
              "<p>90 rows × 1 columns</p>\n",
              "</div><br><label><b>dtype:</b> object</label>"
            ],
            "text/plain": [
              "id                          uint32\n",
              "Brand                       object\n",
              "Material                    object\n",
              "Size                        object\n",
              "comp                       float32\n",
              "                            ...   \n",
              "material_is_rare              bool\n",
              "style_is_rare                 bool\n",
              "color_is_rare                 bool\n",
              "log1p_brand_color_count    float64\n",
              "log1p_style_color_count    float64\n",
              "Length: 90, dtype: object"
            ]
          },
          "execution_count": 10,
          "metadata": {},
          "output_type": "execute_result"
        }
      ],
      "source": [
        "df2.dtypes"
      ]
    },
    {
      "cell_type": "code",
      "execution_count": null,
      "metadata": {
        "id": "pEvP_84pnPeY"
      },
      "outputs": [],
      "source": [
        "pd.set_option('display.max_columns', None)\n",
        "pd.set_option('display.max_rows', None)"
      ]
    },
    {
      "cell_type": "code",
      "execution_count": null,
      "metadata": {
        "id": "8xkVKJkynQsj"
      },
      "outputs": [],
      "source": [
        "df2.drop(\n",
        "    columns=['brand_style_share_within_brand',\n",
        "             'brand_material_share_within_brand',\n",
        "             'brand_wp_share_within_brand'],\n",
        "    errors='ignore',\n",
        "    inplace=True\n",
        ")\n"
      ]
    },
    {
      "cell_type": "code",
      "execution_count": 10,
      "metadata": {
        "id": "Qf11bvF_pZQY"
      },
      "outputs": [],
      "source": [
        "def downcast_duckdb_table(con, table_name,\n",
        "                          keep_double=(\"Price\",),   # keep price as double\n",
        "                          downcast_floats=True,\n",
        "                          cast_01_to_bool=True):    # ints (0/1) -> boolean\n",
        "    def q(name: str) -> str:\n",
        "        return '\"' + name.replace('\"', '\"\"') + '\"'\n",
        "\n",
        "    def pick_int_type(minv, maxv, unsigned=False):\n",
        "        if unsigned:\n",
        "            if maxv <= 255:        return \"UTINYINT\"\n",
        "            if maxv <= 65535:      return \"USMALLINT\"\n",
        "            if maxv <= 4294967295: return \"UINTEGER\"\n",
        "            return \"UBIGINT\"\n",
        "        else:\n",
        "            if minv >= -128 and maxv <= 127:               return \"TINYINT\"\n",
        "            if minv >= -32768 and maxv <= 32767:           return \"SMALLINT\"\n",
        "            if minv >= -2147483648 and maxv <= 2147483647: return \"INTEGER\"\n",
        "            return \"BIGINT\"\n",
        "\n",
        "    type_sizes = {\n",
        "        \"TINYINT\":1, \"UTINYINT\":1, \"SMALLINT\":2, \"USMALLINT\":2,\n",
        "        \"INTEGER\":4, \"UINTEGER\":4, \"REAL\":4, \"FLOAT\":4,\n",
        "        \"BIGINT\":8, \"UBIGINT\":8, \"DOUBLE\":8, \"HUGEINT\":16\n",
        "    }\n",
        "\n",
        "    # Version-robust DESCRIBE\n",
        "    sch = con.sql(f\"DESCRIBE {q(table_name)}\").df()\n",
        "    col_field  = \"column_name\" if \"column_name\" in sch.columns else \"Column\"\n",
        "    type_field = \"column_type\" if \"column_type\" in sch.columns else \"Type\"\n",
        "\n",
        "    print(f\"🚀 Optimizing: {table_name}\")\n",
        "    for _, row in sch.iterrows():\n",
        "        col = str(row[col_field])\n",
        "        typ = str(row[type_field]).upper()\n",
        "\n",
        "        # Skip complex/nondowncast types\n",
        "        if typ.startswith((\"DECIMAL\", \"TIMESTAMP\", \"DATE\")):\n",
        "            continue\n",
        "\n",
        "        # 0/1 -> BOOLEAN\n",
        "        if cast_01_to_bool and (\"INT\" in typ) and \"HUGEINT\" not in typ:\n",
        "            mn, mx = con.sql(\n",
        "                f\"SELECT MIN({q(col)}), MAX({q(col)}) FROM {q(table_name)}\"\n",
        "            ).fetchone()\n",
        "            if mn is not None and mx is not None and mn in (0, None) and mx in (0,1):\n",
        "                print(f\"  {col}: {typ} -> BOOLEAN\")\n",
        "                con.sql(f\"ALTER TABLE {q(table_name)} ALTER COLUMN {q(col)} SET DATA TYPE BOOLEAN\")\n",
        "                continue\n",
        "\n",
        "        # Integers → smallest fitting\n",
        "        if \"INT\" in typ and \"HUGEINT\" not in typ:\n",
        "            mn, mx = con.sql(\n",
        "                f\"SELECT MIN({q(col)}), MAX({q(col)}) FROM {q(table_name)}\"\n",
        "            ).fetchone()\n",
        "            if mn is None or mx is None:\n",
        "                continue\n",
        "            target = pick_int_type(mn, mx, unsigned=(mn >= 0))\n",
        "            cur_sz = type_sizes.get(typ)\n",
        "            tgt_sz = type_sizes.get(target)\n",
        "            if cur_sz and tgt_sz and tgt_sz < cur_sz:\n",
        "                print(f\"  {col}: {typ} -> {target}\")\n",
        "                con.sql(f\"ALTER TABLE {q(table_name)} ALTER COLUMN {q(col)} SET DATA TYPE {target}\")\n",
        "            continue\n",
        "\n",
        "        # DOUBLE → REAL (unless whitelisted)\n",
        "        if downcast_floats and typ == \"DOUBLE\" and col not in keep_double:\n",
        "            print(f\"  {col}: DOUBLE -> REAL\")\n",
        "            con.sql(f\"ALTER TABLE {q(table_name)} ALTER COLUMN {q(col)} SET DATA TYPE REAL\")\n",
        "\n",
        "    print(\"✅ Done.\")"
      ]
    },
    {
      "cell_type": "code",
      "execution_count": 11,
      "metadata": {
        "colab": {
          "base_uri": "https://localhost:8080/",
          "height": 728,
          "referenced_widgets": [
            "981670e93e4d4c6eaf4320b022731d82",
            "a1dc4b5411bc4369b98b785f0bf6a6bf",
            "c4c65a9109a745b9be481eca92af91a1"
          ]
        },
        "id": "EgUjhjV-ppjY",
        "outputId": "c98d2467-aa37-44e3-ff08-e709b0ab4d59"
      },
      "outputs": [
        {
          "output_type": "display_data",
          "data": {
            "text/plain": [
              "FloatProgress(value=0.0, layout=Layout(width='auto'), style=ProgressStyle(bar_color='black'))"
            ],
            "application/vnd.jupyter.widget-view+json": {
              "version_major": 2,
              "version_minor": 0,
              "model_id": "981670e93e4d4c6eaf4320b022731d82"
            }
          },
          "metadata": {}
        },
        {
          "output_type": "stream",
          "name": "stdout",
          "text": [
            "🚀 Optimizing: df2\n",
            "  brand_price_te: DOUBLE -> REAL\n",
            "  material_price_te: DOUBLE -> REAL\n",
            "  size_price_te: DOUBLE -> REAL\n",
            "  style_price_te: DOUBLE -> REAL\n",
            "  waterproof_price_te: DOUBLE -> REAL\n",
            "  brand_material_price_te: DOUBLE -> REAL\n",
            "  brand_size_price_te: DOUBLE -> REAL\n",
            "  material_size_price_te: DOUBLE -> REAL\n",
            "  brand_price_count_te: BIGINT -> UINTEGER\n",
            "  brand_material_price_count_te: BIGINT -> UINTEGER\n",
            "  n_total: BIGINT -> UINTEGER\n",
            "  brand_count: BIGINT -> UINTEGER\n",
            "  style_count: BIGINT -> UINTEGER\n",
            "  material_count: BIGINT -> UINTEGER\n",
            "  size_count: BIGINT -> UINTEGER\n",
            "  color_count: BIGINT -> UINTEGER\n",
            "  wp_count: BIGINT -> UINTEGER\n",
            "  brand_style_count: BIGINT -> UINTEGER\n",
            "  brand_material_count: BIGINT -> UINTEGER\n",
            "  brand_size_count: BIGINT -> UINTEGER\n",
            "  brand_color_count: BIGINT -> UINTEGER\n",
            "  brand_wp_count: BIGINT -> UINTEGER\n",
            "  style_material_count: BIGINT -> UINTEGER\n",
            "  style_size_count: BIGINT -> UINTEGER\n",
            "  style_color_count: BIGINT -> UINTEGER\n",
            "  style_wp_count: BIGINT -> UINTEGER\n",
            "  material_size_count: BIGINT -> UINTEGER\n",
            "  material_color_count: BIGINT -> UINTEGER\n",
            "  material_wp_count: BIGINT -> UINTEGER\n",
            "  brand_color_share_within_brand: DOUBLE -> REAL\n",
            "  style_color_share_within_style: DOUBLE -> REAL\n",
            "  material_global_share: DOUBLE -> REAL\n",
            "  style_global_share: DOUBLE -> REAL\n",
            "  color_global_share: DOUBLE -> REAL\n",
            "  log1p_brand_color_count: DOUBLE -> REAL\n",
            "  log1p_style_color_count: DOUBLE -> REAL\n",
            "✅ Done.\n"
          ]
        }
      ],
      "source": [
        "con.register('df2_df', df2)\n",
        "con.execute(\"CREATE OR REPLACE TABLE df2 AS SELECT * FROM df2_df\")\n",
        "con.unregister('df2_df')\n",
        "\n",
        "# Now downcast the DuckDB table\n",
        "downcast_duckdb_table(\n",
        "    con, 'df2',\n",
        "    keep_double=(\"Price\",),\n",
        "    downcast_floats=True,\n",
        "    cast_01_to_bool=True\n",
        ")\n"
      ]
    },
    {
      "cell_type": "code",
      "execution_count": 12,
      "metadata": {
        "id": "SqGC_O1MrFH1",
        "colab": {
          "base_uri": "https://localhost:8080/"
        },
        "outputId": "f56a5538-b022-4ab1-fcc7-5bfba315c1d6"
      },
      "outputs": [
        {
          "output_type": "execute_result",
          "data": {
            "text/plain": [
              "(3802092, 87)"
            ]
          },
          "metadata": {},
          "execution_count": 12
        }
      ],
      "source": [
        "df2.shape"
      ]
    },
    {
      "cell_type": "code",
      "source": [
        "con.register('final', df2)"
      ],
      "metadata": {
        "colab": {
          "base_uri": "https://localhost:8080/"
        },
        "id": "fUiIYSNPvhro",
        "outputId": "9b2a8ad2-b087-4f3c-d8d8-f4dc76f84393"
      },
      "execution_count": 14,
      "outputs": [
        {
          "output_type": "execute_result",
          "data": {
            "text/plain": [
              "<duckdb.duckdb.DuckDBPyConnection at 0x7f78ed64a570>"
            ]
          },
          "metadata": {},
          "execution_count": 14
        }
      ]
    },
    {
      "cell_type": "code",
      "source": [
        "con.sql(\"\"\"\n",
        "  COPY final\n",
        "  TO 'final_features_backpack.parquet'\n",
        "  (FORMAT PARQUET, COMPRESSION 'ZSTD');\n",
        "\"\"\")"
      ],
      "metadata": {
        "colab": {
          "base_uri": "https://localhost:8080/",
          "height": 49,
          "referenced_widgets": [
            "98699f1a51dc4008bf5de25b3ea4763f",
            "5b54b8bd9e69431fa7cf840d7ed88d00",
            "664933d445994ca6838ff10fae093953"
          ]
        },
        "id": "80HLhpVFvZAx",
        "outputId": "97f2edc1-09ec-4ad4-bf58-3984c57f4137"
      },
      "execution_count": 15,
      "outputs": [
        {
          "output_type": "display_data",
          "data": {
            "text/plain": [
              "FloatProgress(value=0.0, layout=Layout(width='auto'), style=ProgressStyle(bar_color='black'))"
            ],
            "application/vnd.jupyter.widget-view+json": {
              "version_major": 2,
              "version_minor": 0,
              "model_id": "98699f1a51dc4008bf5de25b3ea4763f"
            }
          },
          "metadata": {}
        }
      ]
    }
  ],
  "metadata": {
    "colab": {
      "provenance": []
    },
    "kernelspec": {
      "display_name": "Python 3",
      "name": "python3"
    },
    "language_info": {
      "name": "python"
    }},
  "nbformat": 4,
  "nbformat_minor": 0
}